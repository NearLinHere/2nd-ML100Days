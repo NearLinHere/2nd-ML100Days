{
 "cells": [
  {
   "cell_type": "markdown",
   "metadata": {},
   "source": [
    "## 練習時間\n",
    "在小量的資料上，我們用眼睛就可以看得出來程式碼是否有跑出我們理想中的結果\n",
    "\n",
    "請嘗試想像一個你需要的資料結構 (裡面的值可以是隨機的)，然後用上述的方法把它變成 pandas DataFrame\n",
    "\n",
    "#### Ex: 想像一個 dataframe 有兩個欄位，一個是國家，一個是人口，求人口數最多的國家\n",
    "\n",
    "### Hints: [隨機產生數值](https://blog.csdn.net/christianashannon/article/details/78867204)\n",
    "### Hints: [pandas教學](https://bookdata.readthedocs.io/en/latest/base/01_pandas.html#DataFrame-%E5%85%A5%E9%97%A8)"
   ]
  },
  {
   "cell_type": "code",
   "execution_count": 2,
   "metadata": {},
   "outputs": [],
   "source": [
    "import pandas as pd\n",
    "import numpy as np"
   ]
  },
  {
   "cell_type": "markdown",
   "metadata": {},
   "source": [
    "### DataFrame建立方法一：###\n",
    "使用dict塞入資料，最後轉成dataframe"
   ]
  },
  {
   "cell_type": "code",
   "execution_count": 4,
   "metadata": {},
   "outputs": [
    {
     "name": "stdout",
     "output_type": "stream",
     "text": [
      "              國家      人口\n",
      "0         Taiwan  189004\n",
      "1  United States   30070\n",
      "2       Thailand  357774\n"
     ]
    }
   ],
   "source": [
    "data = {'國家': ['Taiwan', 'United States', 'Thailand'],\n",
    "        '人口': np.random.randint(low=10000, high=1000000, size=3)}\n",
    "data = pd.DataFrame(data)\n",
    "print(data)"
   ]
  },
  {
   "cell_type": "markdown",
   "metadata": {},
   "source": [
    "### DaraFrame建立方法二： ###\n",
    "create新的DataFrame，並以List（清單）方式，把資料加入dataframe"
   ]
  },
  {
   "cell_type": "code",
   "execution_count": 5,
   "metadata": {},
   "outputs": [
    {
     "name": "stdout",
     "output_type": "stream",
     "text": [
      "     country  population\n",
      "0     Taiwan      787415\n",
      "1        USA      214827\n",
      "2      Japan      531346\n",
      "3     Canada       91586\n",
      "4  Singapore      978561\n"
     ]
    }
   ],
   "source": [
    "data = pd.DataFrame()\n",
    "data['country'] = ['Taiwan', 'USA', 'Japan', 'Canada', 'Singapore']\n",
    "data['population'] = np.random.randint(1000, 1300000, 5)\n",
    "\n",
    "print(data)"
   ]
  },
  {
   "cell_type": "markdown",
   "metadata": {},
   "source": [
    "### 求人口數最多的國家 ###\n",
    "方法一：\n",
    "找出人口數最多國家的index，在到國家的清單中找對應的國家名稱"
   ]
  },
  {
   "cell_type": "code",
   "execution_count": 6,
   "metadata": {},
   "outputs": [
    {
     "name": "stdout",
     "output_type": "stream",
     "text": [
      " [Singapore] has the max population [978561]\n",
      "Singapore\n"
     ]
    }
   ],
   "source": [
    "# find the index of max population\n",
    "max_index = data['population'].idxmax()\n",
    "print(' [{}] has the max population [{}]'.format(data['country'][max_index], data['population'][max_index]))\n",
    "\n"
   ]
  },
  {
   "cell_type": "markdown",
   "metadata": {},
   "source": [
    "方法二：一樣先取得index，使用datafrmae的loc[][]來定位"
   ]
  },
  {
   "cell_type": "code",
   "execution_count": 16,
   "metadata": {},
   "outputs": [
    {
     "name": "stdout",
     "output_type": "stream",
     "text": [
      "Singapore\n",
      "978561\n"
     ]
    }
   ],
   "source": [
    "print(data.loc[data['population'].idxmax()]['country'])\n",
    "print(data.loc[data['population'].idxmax()]['population'])"
   ]
  }
 ],
 "metadata": {
  "kernelspec": {
   "display_name": "Python 3",
   "language": "python",
   "name": "python3"
  },
  "language_info": {
   "codemirror_mode": {
    "name": "ipython",
    "version": 3
   },
   "file_extension": ".py",
   "mimetype": "text/x-python",
   "name": "python",
   "nbconvert_exporter": "python",
   "pygments_lexer": "ipython3",
   "version": "3.6.7"
  }
 },
 "nbformat": 4,
 "nbformat_minor": 2
}
